{
 "cells": [
  {
   "cell_type": "markdown",
   "metadata": {},
   "source": [
    "# Part 3: Mapping the impact of wild fires\n",
    "Now that we have the skills to work with geospatial data, we’re going to explore some of the things we can do with it!  \n",
    "You already saw that our visual data consists of three different bands: red, green, and blue. However, the electromagnetic spectrum is much larger than only the visible light, and for our next exercise, we’ll also use the Near Infrared (NIR) light. By combining the red and near infrared light, we can compute an index to measure the ‘greenness’ (or chemically the chlorophyll) of plants. This index is called the Normalized Difference Vegetation Index, also known as the NDVI. And is often used as a measure of 'health' for plants.\n",
    "\n",
    "Below is an example of typical NDVI values for different plants. As you can see, dead plants correspond to an NDVI value of zero or even negative. This is important to understand, with this, we can understand why the NDVI will decrease after a fire!\n",
    "\n",
    "<div style=\"text-align:center\">\n",
    "  <img src=\"imgs/NDVI-values-by-crop-condition.jpeg\" alt=\"NDVI values for various crop conditions\" width=\"500\" height=\"300\">\n",
    "</div>\n",
    "\n",
    "[Image source](https://www.auravant.com/en/articles/precision-agriculture/vegetation-indices-and-their-interpretation-ndvi-gndvi-msavi2-ndre-and-ndwi/)\n",
    "\n",
    "In this final exercise, we will combine our knowledge of vector and raster data to evaluate the effect of a forest fire on a region with different types of forest.   \n",
    "We can immediately start with importing the libraries we know we need for the vector and raster analysis."
   ]
  },
  {
   "cell_type": "code",
   "execution_count": null,
   "metadata": {},
   "outputs": [],
   "source": [
    "# required libraries\n",
    "import rasterio\n",
    "import numpy as np\n",
    "import geopandas as gpd\n",
    "import matplotlib.pyplot as plt\n",
    "from rasterio.plot import show"
   ]
  },
  {
   "cell_type": "markdown",
   "metadata": {},
   "source": [
    "## Exploring the data\n",
    "We can use our forest vector file we created in exercise 2. However, we will use a slightly different image for the raster data, which now contains the Near Infrared (NIR) band as well.\n",
    "\n",
    "(You might notice that the values of the rasters are on a different scale. In the first exercise we used the *visual* image, which contains normalized values such that we can plot the RGB images easily. Now we'll work with the *surface reflectance* values instead, because we need the NIR band as well. For today we can just work with these values without a deeper physical understanding, but if you are interested, you can find a more elaborate explanation [here](https://support.planet.com/hc/en-us/articles/360000285067-What-is-Surface-Reflectance-).)"
   ]
  },
  {
   "cell_type": "code",
   "execution_count": null,
   "metadata": {},
   "outputs": [],
   "source": [
    "# Load the raster data: before and after the forest fire\n",
    "before_file_path = 'data/20230817_surface_reflectance_BGR-NIR.tif'\n",
    "after_file_path = 'data/20230830_surface_reflectance_BGR-NIR.tif'\n",
    "\n",
    "before_fire_img = rasterio.open(before_file_path)\n",
    "after_fire_img = rasterio.open(after_file_path)\n",
    "\n",
    "# check out the metadata\n",
    "before_fire_img.meta"
   ]
  },
  {
   "cell_type": "markdown",
   "metadata": {},
   "source": [
    "We can see that this time our image has `count` 4 instead of 3: this is our extra NIR band!  \n",
    "Now let's take a look at the Red and NIR bands (the bands we need for the NDVI). "
   ]
  },
  {
   "cell_type": "code",
   "execution_count": null,
   "metadata": {},
   "outputs": [],
   "source": [
    "# extract the Red and NIR bands from the before and after image\n",
    "fig, axs = plt.subplots(2, 2, figsize=(9, 7), sharex=\"all\", sharey=\"all\")\n",
    "\n",
    "# Calculate the 95th percentile range for the images such that we can fairly compare them\n",
    "vmin_red = np.percentile(np.concatenate([before_fire_img.read(1), after_fire_img.read(1)], axis=None), 2.5)\n",
    "vmax_red = np.percentile(np.concatenate([before_fire_img.read(1), after_fire_img.read(1)], axis=None), 97.5)\n",
    "vmin_nir = np.percentile(np.concatenate([before_fire_img.read(4), after_fire_img.read(4)], axis=None), 2.5)\n",
    "vmax_nir = np.percentile(np.concatenate([before_fire_img.read(4), after_fire_img.read(4)], axis=None), 97.5)\n",
    "\n",
    "# plot red and nir band before the wild fire\n",
    "show(\n",
    "    (before_fire_img, 1),\n",
    "    ax=axs[0, 0],\n",
    "    cmap=\"Reds\",\n",
    "    title=\"red band before\",\n",
    "    vmin=vmin_red,\n",
    "    vmax=vmax_red,\n",
    ")\n",
    "show(\n",
    "    (before_fire_img, 4),\n",
    "    ax=axs[1, 0],\n",
    "    cmap=\"viridis\",\n",
    "    title=\"nir band before\",\n",
    "    vmin=vmin_nir,\n",
    "    vmax=vmax_nir,\n",
    ")\n",
    "\n",
    "# plot red and nir band after the wild fire\n",
    "im_red = show(\n",
    "    (after_fire_img, 1),\n",
    "    ax=axs[0, 1],\n",
    "    cmap=\"Reds\",\n",
    "    title=\"red band after\",\n",
    "    vmin=vmin_red,\n",
    "    vmax=vmax_red,\n",
    ")\n",
    "im_nir = show(\n",
    "    (after_fire_img, 4),\n",
    "    ax=axs[1, 1],\n",
    "    cmap=\"viridis\",\n",
    "    title=\"nir band after\",\n",
    "    vmin=vmin_nir,\n",
    "    vmax=vmax_nir,\n",
    ")\n",
    "\n",
    "# Position and size the red colorbar on the right side of the second column\n",
    "cax_red = fig.add_axes([axs[0, 1].get_position().x1 + 0.01, axs[0, 1].get_position().y0, 0.02, axs[0, 1].get_position().height])\n",
    "cbar_red = plt.colorbar(im_red.get_images()[0], cax=cax_red)\n",
    "cbar_red.set_label(\"Surface reflectance red band\")\n",
    "# same for the nir band\n",
    "cax_nir = fig.add_axes([axs[1, 1].get_position().x1 + 0.01, axs[1, 1].get_position().y0, 0.02, axs[1, 1].get_position().height])\n",
    "cbar_nir = plt.colorbar(im_nir.get_images()[0], cax=cax_nir)\n",
    "cbar_nir.set_label(\"Surface reflectance NIR band\")\n",
    "\n",
    "# fig.tight_layout()\n",
    "plt.subplots_adjust(wspace=0.1)\n",
    "plt.show()\n",
    "plt.close()"
   ]
  },
  {
   "cell_type": "markdown",
   "metadata": {},
   "source": [
    "We can already see that the NIR reflectance is much lower after the wild fire. Looking at the NDVI formula again, \n",
    "$$\n",
    "    NDVI = \\frac{NIR - Red}{NIR + Red},\n",
    "$$\n",
    "it shows us that a high NIR signal corresponds to high NDVI. "
   ]
  },
  {
   "cell_type": "markdown",
   "metadata": {},
   "source": [
    "## Computing the NDVI\n",
    "Now that we have our NIR and red band, we can compute the NDVI. To easily recompute the NDVI for the two images, let's define it as a function. "
   ]
  },
  {
   "cell_type": "code",
   "execution_count": null,
   "metadata": {},
   "outputs": [],
   "source": [
    "def compute_ndvi(\n",
    "    img: rasterio.io.DatasetReader,\n",
    "    red_band_nr: int = 1,\n",
    "    nir_band_nr: int = 4,\n",
    ") -> np.ndarray:\n",
    "    \"\"\"\n",
    "    Compute the NDVI from a spectral reflectance image containing a red and NIR band.\n",
    "\n",
    "    Args:\n",
    "        img (np.ndarray): image with spectral bands\n",
    "        red_band_nr (int, optional): number of red band. Defaults to 1.\n",
    "        nir_band_nr (int, optional): number of NIR band. Defaults to 4.\n",
    "\n",
    "    Returns:\n",
    "        np.ndarray: NDVI image\n",
    "    \"\"\"\n",
    "    # check if the img indeed has 4 bands\n",
    "    if img.count < red_band_nr or img.count < nir_band_nr:\n",
    "        raise ValueError(\n",
    "            f\"Assigned band number ({red_band_nr} or {nir_band_nr}) is too large. Image has {img.count} bands\"\n",
    "        )\n",
    "\n",
    "    # get the bands from the image\n",
    "    red_band = img.read(red_band_nr)\n",
    "    nir_band = img.read(nir_band_nr)\n",
    "\n",
    "    # compute ndvi and make sure not to divide by 0\n",
    "    ndvi = np.divide((nir_band - red_band), (nir_band + red_band), where=(nir_band + red_band) != 0)\n",
    "\n",
    "    return ndvi\n",
    "\n",
    "\n",
    "# run the function to calculate the ndvi numpy arrays\n",
    "before_fire_ndvi = compute_ndvi(before_fire_img)\n",
    "after_fire_ndvi = compute_ndvi(after_fire_img)"
   ]
  },
  {
   "cell_type": "markdown",
   "metadata": {},
   "source": [
    "So we got the NDVI now! However, as you might have noticed, the function returns the NDVI as a numpy array, which is not georeferenced. When we would plot the NDVI now, we can see that the axes represent the row and column indices from the numpy array rather than the geographical coordinates. "
   ]
  },
  {
   "cell_type": "code",
   "execution_count": null,
   "metadata": {},
   "outputs": [],
   "source": [
    "plt.imshow(before_fire_ndvi)\n",
    "plt.show()\n",
    "plt.close()"
   ]
  },
  {
   "cell_type": "markdown",
   "metadata": {},
   "source": [
    "To restore the geolocation of the image, we can write the NDVI images to GeoTIFF files with the geotransform from the original images.\n",
    "\n",
    "If you want to learn more about the projection and transform, check out the *Extra* section at the end of the raster notebook with exercise 1."
   ]
  },
  {
   "cell_type": "code",
   "execution_count": null,
   "metadata": {},
   "outputs": [],
   "source": [
    "# import the affine library for the reprojection\n",
    "import affine\n",
    "\n",
    "def save_raster(dataset: np.ndarray,\n",
    "                dataset_path: str,\n",
    "                cols: int,\n",
    "                rows: int,\n",
    "                projection: affine.Affine,\n",
    "                transform: affine.Affine,\n",
    "                ) -> None:\n",
    "    \"\"\"\n",
    "    Save raster to tif file with its geotransform\n",
    "\n",
    "    Args:\n",
    "        dataset (np.ndarray): raster to store\n",
    "        datasetPath (str): file path to output location\n",
    "        cols (int): width of the output img (nr of pixels)\n",
    "        rows (int): height of the output img (nr of pixels)\n",
    "        projection (affine.Affine): crs of output image\n",
    "        transform (affine.Affine): geotransform of output image\n",
    "    \"\"\"\n",
    "    # Open a new GeoTIFF file for writing\n",
    "    with rasterio.open(dataset_path, 'w',\n",
    "                       driver='GTiff',\n",
    "                       height=rows,\n",
    "                       width=cols,\n",
    "                       count=1,\n",
    "                       dtype=np.float32,\n",
    "                       crs=projection,\n",
    "                       transform=transform) as dst:\n",
    "        # Write the input dataset to the output file\n",
    "        dst.write(dataset, 1)"
   ]
  },
  {
   "cell_type": "code",
   "execution_count": null,
   "metadata": {},
   "outputs": [],
   "source": [
    "# define parameters\n",
    "img_cols = before_fire_img.width\n",
    "img_rows = before_fire_img.height\n",
    "img_projection = before_fire_img.crs\n",
    "img_transform = before_fire_img.transform\n",
    "\n",
    "type(before_fire_ndvi)\n",
    "\n",
    "# store our before and after ndvi to a tif file\n",
    "save_raster(\n",
    "    before_fire_ndvi,\n",
    "    \"data/ndvi_before.tif\",\n",
    "    cols=img_cols,\n",
    "    rows=img_rows,\n",
    "    projection=img_projection,\n",
    "    transform=img_transform,\n",
    ")\n",
    "save_raster(\n",
    "    after_fire_ndvi,\n",
    "    \"data/ndvi_after.tif\",\n",
    "    cols=img_cols,\n",
    "    rows=img_rows,\n",
    "    projection=img_projection,\n",
    "    transform=img_transform,\n",
    ")"
   ]
  },
  {
   "cell_type": "markdown",
   "metadata": {},
   "source": [
    "If we plot our NDVI images again, we can see that the coordinates reappear on the axes.\n",
    "\n",
    "Note that, in the plot below, we only look at the NDVI in the range from [0.33, 1.0]. This range, as you can see in the image at the top of the notebook, corresponds to moderately healthy vegetation and better. So by only plotting this part of the range, subtle differences are highlighted and low NDVI values (<0.33) are better visible."
   ]
  },
  {
   "cell_type": "code",
   "execution_count": null,
   "metadata": {},
   "outputs": [],
   "source": [
    "import matplotlib.ticker as ticker\n",
    "\n",
    "# load our new images\n",
    "ndvi_before = rasterio.open(\"data/ndvi_before.tif\")\n",
    "ndvi_after = rasterio.open(\"data/ndvi_after.tif\")\n",
    "\n",
    "# plot the NDVI before and after the wildfire next to each other\n",
    "fig, axs = plt.subplots(1, 2, figsize=(12, 8), sharey=True)\n",
    "ndvi_plot_before = show(\n",
    "    (ndvi_before, 1), ax=axs[0], cmap=\"RdYlGn\", title=\"NDVI before\", vmin=0.33, vmax=1\n",
    ")\n",
    "ndvi_plot_after = show(\n",
    "    (ndvi_after, 1), ax=axs[1], cmap=\"RdYlGn\", title=\"NDVI after\", vmin=0.33, vmax=1\n",
    ")\n",
    "\n",
    "# figure layout\n",
    "cax = fig.add_axes([axs[1].get_position().x1 + 0.01, axs[1].get_position().y0, 0.02, axs[1].get_position().height])\n",
    "cbar = plt.colorbar(ndvi_plot_after.get_images()[0], cax=cax)\n",
    "cbar.set_label(\"NDVI\")\n",
    "plt.show()\n",
    "plt.close()"
   ]
  },
  {
   "cell_type": "markdown",
   "metadata": {},
   "source": [
    "If we want to know the difference between the before and after, we can simpy print the mean values. However, this value also contains the NDVI values for areas such as roads and cities. Therefore, it *underestimates* the effect of the fire on the natural areas. If we want to see the true effect on these natural areas, we need our vector data to extract the data in these locations."
   ]
  },
  {
   "cell_type": "markdown",
   "metadata": {},
   "source": [
    "## Combining vector and raster data\n",
    "Let's start by loading our vector data of the forest areas and plotting it together with the raster images we created of the NDVI to visualize their relationship."
   ]
  },
  {
   "cell_type": "code",
   "execution_count": null,
   "metadata": {},
   "outputs": [],
   "source": [
    "# load the vector data\n",
    "landcover = gpd.read_file(\"data/landcover_greece.geojson\")\n",
    "forest_landcover = gpd.read_file(\"data/forest_landcover.geojson\")\n",
    "\n",
    "# plot the boundaries over the raster to see which areas contain forest\n",
    "fig, axs = plt.subplots(1, 2, figsize=(12, 8), sharey=True)\n",
    "ndvi_plot_before = show((ndvi_before, 1), ax=axs[0], cmap=\"RdYlGn\", vmin=0.33, vmax=1, title=\"NDVI before with forest boundaries\")\n",
    "ndvi_plot_after = show((ndvi_after, 1), ax=axs[1], cmap=\"RdYlGn\", vmin=0.33, vmax=1, title=\"NDVI after with forest boundaries\")\n",
    "# plot the boundaries on both axes\n",
    "[forest_landcover.boundary.plot(ax=ax, color=\"black\") for ax in axs]\n",
    "\n",
    "# plot layout\n",
    "[ax.set_xlim(414000, 425000) for ax in axs]\n",
    "cax = fig.add_axes([axs[1].get_position().x1 + 0.01, axs[1].get_position().y0, 0.02, axs[1].get_position().height])\n",
    "cbar = plt.colorbar(ndvi_plot_after.get_images()[0], cax=cax)\n",
    "cbar.set_label(\"NDVI\")\n",
    "plt.show()\n",
    "plt.close()"
   ]
  },
  {
   "cell_type": "markdown",
   "metadata": {},
   "source": [
    "As expected, before the wild fire occurred, the NDVI is a lot higher within forest areas than after the fire.\n",
    "\n",
    "To see where the impact of the fire was the most severe, we can compute the difference in NDVI by subtracting the rasters from each other. "
   ]
  },
  {
   "cell_type": "code",
   "execution_count": null,
   "metadata": {},
   "outputs": [],
   "source": [
    "# calculate the difference before and after the fire\n",
    "diff_ndvi = ndvi_after.read(1) - ndvi_before.read(1)\n",
    "\n",
    "# now we can see that this again is in numpy array format, so we need to restore the geo-information by saving the result as raster\n",
    "save_raster(\n",
    "    diff_ndvi,\n",
    "    \"data/ndvi_difference.tif\",\n",
    "    cols=img_cols,\n",
    "    rows=img_rows,\n",
    "    projection=img_projection,\n",
    "    transform=img_transform,\n",
    ")"
   ]
  },
  {
   "cell_type": "code",
   "execution_count": null,
   "metadata": {},
   "outputs": [],
   "source": [
    "# open the raster we just created\n",
    "ndvi_diff_raster = rasterio.open(\"data/ndvi_difference.tif\")\n",
    "\n",
    "# plot the difference in NDVI\n",
    "fig, ax = plt.subplots(figsize=(6, 5))\n",
    "plot_ndvi_diff = show(ndvi_diff_raster, ax=ax, cmap=\"RdYlGn\")\n",
    "\n",
    "# plot layout\n",
    "cax = fig.add_axes([ax.get_position().x1 + 0.01, ax.get_position().y0, 0.02, ax.get_position().height])\n",
    "cbar = plt.colorbar(plot_ndvi_diff.get_images()[0], cax=cax)\n",
    "cbar.set_label(\"Difference in NDVI\")\n",
    "plt.show()\n",
    "plt.close()"
   ]
  },
  {
   "cell_type": "markdown",
   "metadata": {},
   "source": [
    "That already clearly shows that there was a much greater impact on some parts of the area than on others!  \n",
    "Now if we want to know which *area* (polygon) was the most damaged, we can use our vector file. By locating where the fire was the worst averaged over the area, we can determine which type of forest is most affected by the fire.\n",
    "\n",
    "So let's start by averaging the NDVI for each (forest) polygon. \n",
    "We can start by adding the average NDVI values as an attribute to our geodataframe."
   ]
  },
  {
   "cell_type": "code",
   "execution_count": null,
   "metadata": {},
   "outputs": [],
   "source": [
    "# duplicate and visualize our original dataframe\n",
    "forest_ndvi = forest_landcover.copy()\n",
    "forest_landcover.head()"
   ]
  },
  {
   "cell_type": "code",
   "execution_count": null,
   "metadata": {},
   "outputs": [],
   "source": [
    "from rasterio.mask import mask\n",
    "from shapely.geometry import mapping, MultiPolygon\n",
    "\n",
    "\n",
    "def compute_ndvi_within_multipolygon(\n",
    "    raster_data: rasterio.io.DatasetReader,\n",
    "    multipolygon: MultiPolygon,\n",
    ") -> float:\n",
    "    \"\"\"Compute NDVI within a multipolygon\n",
    "\n",
    "    Args:\n",
    "        raster_data (rasterio.io.DatasetReader): rasterio raster data with NDVI values\n",
    "        multipolygon (MultiPolygon): geometry of format multipolygon\n",
    "\n",
    "    Returns:\n",
    "        float: Average NDVI values\n",
    "    \"\"\"\n",
    "    # create a list of the multipolygons\n",
    "    # (mapping converts the multipolygons to a geojson like format)\n",
    "    geojson_geometry = [mapping(multipolygon)]\n",
    "    # The mask function from rasterio is used to extract the values from the raster_data within the multipolygon\n",
    "    # crop=True parameter ensures that the extracted data aligns with the boundaries of the multipolygon\n",
    "    masked_data, _ = mask(raster_data, geojson_geometry, crop=True)\n",
    "    # average the values within the polygons\n",
    "    average_ndvi = np.nanmean(masked_data)\n",
    "\n",
    "    return average_ndvi"
   ]
  },
  {
   "cell_type": "code",
   "execution_count": null,
   "metadata": {},
   "outputs": [],
   "source": [
    "# apply function to geodataframe\n",
    "forest_ndvi[\"Average_ndvi_before\"] = forest_ndvi.apply(\n",
    "    lambda row: compute_ndvi_within_multipolygon(ndvi_before, row[\"geometry\"]), axis=1\n",
    ")\n",
    "forest_ndvi[\"Average_ndvi_after\"] = forest_ndvi.apply(\n",
    "    lambda row: compute_ndvi_within_multipolygon(ndvi_after, row[\"geometry\"]), axis=1\n",
    ")\n",
    "forest_ndvi.head()"
   ]
  },
  {
   "cell_type": "markdown",
   "metadata": {},
   "source": [
    "## Exercise\n",
    "Can you find out where (for which forest polygon) the impact of the fire was the most severe?"
   ]
  },
  {
   "cell_type": "code",
   "execution_count": null,
   "metadata": {},
   "outputs": [],
   "source": [
    "## solutions\n",
    "# calculate the difference between the NDVI before and after\n",
    "wildfire_impact = forest_ndvi.copy()\n",
    "# [YOUR ANSWER HERE]\n",
    "\n",
    "# locate the largest difference\n",
    "row_with_highest_ndvi_difference = # [YOUR ANSWER HERE]\n",
    "\n",
    "# (Hint: use the idxmax() function)"
   ]
  },
  {
   "cell_type": "markdown",
   "metadata": {},
   "source": [
    "## Visualizing the area\n",
    "Now that we found the area which was damaged most, we can visualize the area with our raster and vector."
   ]
  },
  {
   "cell_type": "code",
   "execution_count": null,
   "metadata": {},
   "outputs": [],
   "source": [
    "# filter the dataframe by the row with the largest impact\n",
    "geom_largest_diff = gpd.GeoDataFrame([row_with_highest_ndvi_difference], geometry=\"geometry\")\n",
    "\n",
    "# plot the boundaries over the raster to see which areas contain forest\n",
    "fig, axs = plt.subplots(figsize=(10, 7))\n",
    "ndvi_diff_plot = show((ndvi_diff_raster, 1), ax=axs, cmap=\"RdYlGn\", title=\"Most Damaged Area\")\n",
    "gpd.plotting.plot_dataframe(geom_largest_diff, ax=axs, facecolor=\"none\", edgecolor=\"black\", lw=4)\n",
    "\n",
    "# plot layout\n",
    "cax = fig.add_axes([ax.get_position().x1 + 0.01, ax.get_position().y0, 0.02, ax.get_position().height])\n",
    "cbar = plt.colorbar(ndvi_diff_plot.get_images()[0], cax=cax)\n",
    "cbar.set_label(\"Difference in NDVI\")\n",
    "plt.show()\n",
    "plt.close()"
   ]
  },
  {
   "cell_type": "markdown",
   "metadata": {},
   "source": [
    "Well done, you made it to the end! Thank you for your participation and don't forget to close your datasets ;)"
   ]
  },
  {
   "cell_type": "code",
   "execution_count": null,
   "metadata": {},
   "outputs": [],
   "source": [
    "# close all datasets\n",
    "ndvi_diff_raster.close()\n",
    "before_fire_img.close()\n",
    "after_fire_img.close()\n",
    "ndvi_before.close()\n",
    "ndvi_after.close()"
   ]
  }
 ],
 "metadata": {
  "kernelspec": {
   "display_name": "geodata_in_python",
   "language": "python",
   "name": "python3"
  },
  "language_info": {
   "codemirror_mode": {
    "name": "ipython",
    "version": 3
   },
   "file_extension": ".py",
   "mimetype": "text/x-python",
   "name": "python",
   "nbconvert_exporter": "python",
   "pygments_lexer": "ipython3",
   "version": "3.12.0"
  },
  "orig_nbformat": 4
 },
 "nbformat": 4,
 "nbformat_minor": 2
}
