{
 "cells": [
  {
   "cell_type": "markdown",
   "metadata": {},
   "source": [
    "# Part 2: Working with vector data"
   ]
  },
  {
   "cell_type": "markdown",
   "metadata": {},
   "source": [
    "## Introduction to vector data, shapely, and geopandas\n",
    "Now that we understand raster data a bit better, we can dive into the second type of data: vector data. Vector data represents geographic data in a symbolized way: as points, lines or polygons.  \n",
    "Each geometry in vector data has a specific geographic location and may also contain additional features, also called attributes (such as names, IDs, or other descriptive information).\n",
    "\n",
    "The left image below displays the three main vector type objects: points, lines and polygons. The right image demonstrates a vector representation of topographic and land use information. We see the different types of geometries containing class information: one polygon represents the desert, and another point represents a house.\n",
    "\n",
    "<div style=\"text-align:center\">\n",
    "  <img src=\"imgs/vector_example.png\" alt=\"Standard geopandas dataframe format\" width=\"500\" height=\"300\">\n",
    "</div>"
   ]
  },
  {
   "cell_type": "markdown",
   "metadata": {},
   "source": [
    "## Creating geometries\n",
    "Unlike raster data, vector data consists of a single object with certain values or features attributed to it. Let's create our first vector objects in all three possible forms:\n",
    "1. points - individual (x,y) locations\n",
    "2. lines - composed of multiple vertices or connected points\n",
    "3. polygons - three or more connected vertices that are *closed*\n",
    "\n",
    "We can create this with these geometries with the Python library Shapely. Shapely is often used for manipulating and analyzing geometric objects.\n",
    "Let's create our first geometries!"
   ]
  },
  {
   "cell_type": "code",
   "execution_count": null,
   "metadata": {},
   "outputs": [],
   "source": [
    "# Import Shapely\n",
    "from shapely.geometry import Point, Polygon, LineString\n",
    "\n",
    "# Create a Point\n",
    "point = Point(0, 0)\n",
    "\n",
    "# Create a LineString\n",
    "line = LineString([(0, 0), (1, 1), (2, 1)])\n",
    "\n",
    "# Create a Polygon\n",
    "polygon = Polygon([(0, 0), (1, 0), (1, 1), (0, 1), (0, 0)])"
   ]
  },
  {
   "cell_type": "markdown",
   "metadata": {},
   "source": [
    "Each of these geometries are now *objects*, with their own properties. We can view these properties by simply accessing the attribute of our object.\n",
    "\n",
    "For example, if we are interested in the coordinates corresponding to the geometry of our created objects, we can access them with the following command:"
   ]
  },
  {
   "cell_type": "code",
   "execution_count": null,
   "metadata": {},
   "outputs": [],
   "source": [
    "# get the (x, y) coordinates of our geometries\n",
    "print(\n",
    "    f\"Point coordinates = {point.xy}\\n\"\n",
    "    f\"Line coordinates = {line.xy}\\n\"\n",
    "    f\"Polygon coordinates = {polygon.exterior.xy}\"\n",
    ")"
   ]
  },
  {
   "cell_type": "markdown",
   "metadata": {},
   "source": [
    "Note that we need to specify `exterior` for the polygon, because polygons can contain holes of which the coordinates can be accessed with the `interiors` attribute.\n",
    "\n",
    "We can easily visualize our newly made geometries using the `pyplot` module from `matplotlib`."
   ]
  },
  {
   "cell_type": "code",
   "execution_count": null,
   "metadata": {},
   "outputs": [],
   "source": [
    "import matplotlib.pyplot as plt\n",
    "\n",
    "# Create a figure and axis\n",
    "fig, ax = plt.subplots(figsize=(6, 4))\n",
    "\n",
    "# Plot the Point\n",
    "x, y = point.xy\n",
    "ax.plot(x, y, \"ro\", label=\"Point\")\n",
    "# Plot the LineString\n",
    "x, y = line.xy\n",
    "ax.plot(x, y, \"g--\", label=\"LineString\")\n",
    "# Plot the Polygon\n",
    "x, y = polygon.exterior.xy\n",
    "ax.plot(x, y, \"b-\", label=\"Polygon\")\n",
    "\n",
    "# Add labels and legend\n",
    "ax.set_title(\"Geometries\")\n",
    "ax.legend()\n",
    "plt.show()"
   ]
  },
  {
   "cell_type": "markdown",
   "metadata": {},
   "source": [
    "## Working with attributes\n",
    "Vector data files, such as shapefiles, geodatabases, or GeoJSON, often include not only geometric information (points, lines, polygons) but also attribute data associated with these geometries. These attributes provide additional information or characteristics about the geographic features, which is very useful for geospatial data analysis! This comes back to our example, where we saw how landcover maps can use different kinds of geometries to represent not only the locations of a certain area such as forest, but can also contain additional information for that specific area, such as the area size, the types of trees, or the number of inhabitants.  \n",
    "For our use case, these attributes will help us distinguish between the different types of forest. But more on that later!\n",
    "\n",
    "First let's start with printing some general attributes of our geometries, a few examples of this are `geom_type`, `area`, and `distance`. (You can find all general and geometry specific attributes in the [Shapely user manual](https://shapely.readthedocs.io/en/stable/manual.html#:~:text=General%20Attributes%20and%20Methods).)"
   ]
  },
  {
   "cell_type": "code",
   "execution_count": null,
   "metadata": {},
   "outputs": [],
   "source": [
    "# Check the geometry types\n",
    "print(f\"We created a beautiful {point.geom_type}, {line.geom_type}, and {polygon.geom_type}\\n\")\n",
    "\n",
    "# Get the area of your polygon\n",
    "print(f\"Our polygon has a size of 1 x 1 = {polygon.area}\\n\")\n",
    "# what would happen if you'd do this for your point?\n",
    "\n",
    "# Get the distance between two geometries\n",
    "print(f\"Distance between two points = {point.distance(Point(1,1))}\")"
   ]
  },
  {
   "cell_type": "markdown",
   "metadata": {},
   "source": [
    "### Exercise\n",
    "Play around with the geometries and attributes, can you find the *length* of our line?"
   ]
  },
  {
   "cell_type": "code",
   "execution_count": null,
   "metadata": {},
   "outputs": [],
   "source": [
    "# Fill in your solution below\n",
    "#[YOUR SOLUTION]"
   ]
  },
  {
   "cell_type": "markdown",
   "metadata": {},
   "source": [
    "## Working with real geographic data\n",
    "Now that we understand the principles of vector data, we can start working with real geographic data!  \n",
    "We'll work with a landcover map of our area in Greece. The vector format is often used for landcover maps, because it allows areas to contain different types of information. If part of your map consists of forest for example, we might be able to read different attributes from the vector data, such as forest type and area. If we would've used raster data instead, we would only have been able to see that for a certain pixel the landcover type (or *landcover class*) corresponds to forest.  \n",
    "Being able to read this information helps us understand in which types of forest the wild fire was the most severe. This can help our understanding of how wild fires spread, which is essential information for monitoring and predicting wild fires in the future!\n",
    "\n",
    "As we discussed, vector data often comes in a _geojson_ file format. This file contains all coordinates and features we need to know, and, fortunately, the geographic version of `pandas`, `geopandas`, follows intuitive steps to load and read the data. "
   ]
  },
  {
   "cell_type": "code",
   "execution_count": null,
   "metadata": {},
   "outputs": [],
   "source": [
    "# very similar to the pandas library\n",
    "import geopandas as gpd\n",
    "\n",
    "# load the vector data set and display the first rows\n",
    "landcover_vector_file_path = \"data/landcover_greece.geojson\"\n",
    "landcover = gpd.read_file(landcover_vector_file_path)\n",
    "landcover.head()"
   ]
  },
  {
   "cell_type": "markdown",
   "metadata": {},
   "source": [
    "We can recognize the standard pandas dataframe with an extra column: *geometry*. This geometry column always contains the objects with the coordinates. <div style=\"text-align:center\">\n",
    "  <img src=\"imgs/geopandas_df_structure.png\" alt=\"Standard geopandas dataframe format\">\n",
    "</div>"
   ]
  },
  {
   "cell_type": "markdown",
   "metadata": {},
   "source": [
    "If you want to read more about the dataset, you can read [documentation of the landcover dataset](https://land.copernicus.eu/en/products/corine-land-cover/clc2018).\n",
    "\n",
    "Now let's visualize our MultiPolygons (from the *geometry* column)!  \n",
    "Geopandas has a built in method `plot()`, which makes it easy to plot all geometries from our geodataframe. It even gives us the opportunity to pass a column title to plot the categorical or continuous values."
   ]
  },
  {
   "cell_type": "code",
   "execution_count": null,
   "metadata": {},
   "outputs": [],
   "source": [
    "# plot the geometries with the landcover_class as categorical value\n",
    "landcover.plot(\"landcover_class\", legend=True)"
   ]
  },
  {
   "cell_type": "markdown",
   "metadata": {},
   "source": [
    "### Exercise\n",
    "For our forest fire analysis, we are most interested in the forest area. Can you create a new dataframe with only the forested areas?\n",
    "\n",
    "Extra time? Can you visualize the subclasses of the forest area in a plot? Try to find out what `gdf.explore()` does!"
   ]
  },
  {
   "cell_type": "code",
   "execution_count": null,
   "metadata": {},
   "outputs": [],
   "source": [
    "# Fill in your solution below\n",
    "# make a copy of the dataframe\n",
    "forest_df = landcover.copy()\n",
    "\n",
    "# select the rows from your dataframe where your landcover class corresponds to 'Forest and semi natural area'\n",
    "# (Hint: this is the same as for 'regular' pandas dataframes!)\n",
    "#[YOUR SOLUTION]\n",
    "\n",
    "# show your new dataframe\n",
    "forest_df.head()\n",
    "\n",
    "# plot the subclasses\n",
    "#[YOUR SOLUTION]\n",
    "\n",
    "\n",
    "# Hint: explore is very similar to plot()"
   ]
  },
  {
   "cell_type": "markdown",
   "metadata": {},
   "source": [
    "## Writing vector data\n",
    "To take our hard work to the next notebook, we can save our filtered dataframe to a file. With the in-build geopandas function `to_file()`, we can easily do this. By default, an ESRI shapefile is written, but any geodata source supported by `Fiona` can be written. We can see these drivers with:"
   ]
  },
  {
   "cell_type": "code",
   "execution_count": null,
   "metadata": {},
   "outputs": [],
   "source": [
    "# supported data types to write vector files to\n",
    "import fiona\n",
    "fiona.supported_drivers"
   ]
  },
  {
   "cell_type": "markdown",
   "metadata": {},
   "source": [
    "Now let's store our `forest_df` in the data folder in a geojson format for consistency."
   ]
  },
  {
   "cell_type": "code",
   "execution_count": null,
   "metadata": {},
   "outputs": [],
   "source": [
    "# store it with the other data\n",
    "forest_df.to_file('data/forest_landcover.geojson', driver='GeoJSON')"
   ]
  },
  {
   "cell_type": "markdown",
   "metadata": {},
   "source": [
    "# Extra\n",
    "\n",
    "If you want to explore vector data more, go through the sections below!"
   ]
  },
  {
   "cell_type": "markdown",
   "metadata": {},
   "source": [
    "## Multi-geometries\n",
    "When working with vector data, you often encounter a situation where multiple geometries instead of a single geometry is used for a certain area or class. As an example, we will look at a  multi-polygon here, but the theory is the same with lines and points.  \n",
    "\n",
    "A **multipolygon** is a collection of polygons grouped together, where each polygon has its own set of vertices (bounds) and attributes. \n",
    "Multipolygons are useful when you have complex geographic features that can't be adequately represented by a single polygon. For example, a country with islands could be represented as a multipolygon with each island as a separate polygon within it. Moreover, they help you to organize your data efficiently by group related ones together, avoid repetition by using a multipolygon with shared attributes, and work with multiple polygons as a single entity for performing vector operations.\n",
    "\n",
    "We can easily create a multipolygon from two (or even one) polygon:"
   ]
  },
  {
   "cell_type": "code",
   "execution_count": null,
   "metadata": {},
   "outputs": [],
   "source": [
    "# import the multipolygon class\n",
    "from shapely.geometry import MultiPolygon\n",
    "\n",
    "# create two polygons\n",
    "polygon1 = Polygon([(0, 0), (1, 0), (1, 1), (0, 1), (0, 0)])\n",
    "polygon2 = Polygon([(2, 2), (3, 1), (4, 3), (3, 3), (2, 2)])\n",
    "\n",
    "# combine the two polygons to a single multipolygon\n",
    "multi_polygon = MultiPolygon(polygons=[polygon1, polygon2])\n",
    "\n",
    "# plot our new creation\n",
    "plt.figure(figsize=(5, 3))\n",
    "for poly in multi_polygon.geoms:\n",
    "    plt.plot(*poly.exterior.xy, color=\"blue\")\n",
    "plt.title(\"Our First MultiPolygon\")\n",
    "plt.grid(alpha=0.3)\n",
    "plt.show()\n",
    "plt.close()"
   ]
  },
  {
   "cell_type": "markdown",
   "metadata": {},
   "source": [
    "## Invalid geometries\n",
    "\n",
    "One thing to be cautious for are invalid geometries. Common causes of invalid geometries are:\n",
    "1. **self-intersecting polygons**: polygons that cross over each other (like a figure 8) are self-intersecting and considered invalid.\n",
    "2. **geometry with too few points**: a line should consist of at least two points and a polygon of three (such that the area can be enclosed)\n",
    "3. **geometry gaps or overlaps**: if there are gaps or if polygons touch at an infinite number of points (along a line)\n",
    "\n",
    "We can create our own example of what this looks like:"
   ]
  },
  {
   "cell_type": "code",
   "execution_count": null,
   "metadata": {},
   "outputs": [],
   "source": [
    "# Creating a self-intersecting polygon\n",
    "polygon_coords = [(0, 0), (2, 0), (1, 1), (0, 1), (2, 1)]\n",
    "self_intersecting_polygon = Polygon(polygon_coords)\n",
    "\n",
    "# Checking if it's valid\n",
    "print(\"Is our multipolygon valid?\", multi_polygon.is_valid)\n",
    "print(\"Is our new polygon valid?\", self_intersecting_polygon.is_valid)\n",
    "\n",
    "# visualize our invalid polygon\n",
    "fig, ax = plt.subplots(figsize=(5, 3))\n",
    "ax.plot(*self_intersecting_polygon.exterior.xy)\n",
    "ax.set_title(\"Invalid geometry: self intersecting polygon\")"
   ]
  }
 ],
 "metadata": {
  "kernelspec": {
   "display_name": "geodata_in_python",
   "language": "python",
   "name": "python3"
  },
  "language_info": {
   "codemirror_mode": {
    "name": "ipython",
    "version": 3
   },
   "file_extension": ".py",
   "mimetype": "text/x-python",
   "name": "python",
   "nbconvert_exporter": "python",
   "pygments_lexer": "ipython3",
   "version": "3.12.0"
  },
  "orig_nbformat": 4
 },
 "nbformat": 4,
 "nbformat_minor": 2
}
